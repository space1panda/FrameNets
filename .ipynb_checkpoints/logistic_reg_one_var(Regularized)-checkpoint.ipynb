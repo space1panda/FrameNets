{
 "cells": [
  {
   "cell_type": "markdown",
   "metadata": {},
   "source": [
    "08.09 - Matplot scatter was showing that the data cannot be classified with the given parameters. So if the graph cannot give a graph pattern idea, the problem cannot be solved with linear methods. \n",
    "\n",
    "\n",
    "06.09 The function got minimized, but the prediction is not working correctly. I have to check whether it has to do with the data I picked up for training. \n"
   ]
  },
  {
   "cell_type": "markdown",
   "metadata": {},
   "source": [
    "10/09 The model is working correctly (optimized thetas are same). The examplar model worked at 19.5 s, so my one is way more efficient. Most probably because of bad refactoring.Have to understand, how the exemplar graph is being built"
   ]
  },
  {
   "cell_type": "code",
   "execution_count": 1,
   "metadata": {},
   "outputs": [],
   "source": [
    "#Class\n",
    "%matplotlib inline\n",
    "%precision 2\n",
    "import numpy as np\n",
    "import matplotlib.pyplot as plt\n",
    "\n",
    "\n",
    "class FlowerClassificator():\n",
    "    \n",
    "    def __init__(self, alpha = 0.3, num_iter = 100000, fit_ones=True, reg_ld = 0.1):\n",
    "        self.alpha = alpha\n",
    "        self.num_iter = num_iter\n",
    "        self.fit_ones = fit_ones\n",
    "        self.reg_ld = reg_ld\n",
    "\n",
    "        \n",
    "    def data_prep(self, X):\n",
    "        \n",
    "        return np.concatenate((np.ones((X.shape[0],1)), X), axis=1)\n",
    "\n",
    "    def sigmoid(self, z):\n",
    "        g = 1 /(1+ np.exp(-z))\n",
    "        return g\n",
    "\n",
    "    def CostFunction(self, h, y):\n",
    "        reg_factor = (self.reg_ld/2) * self.theta**2\n",
    "        J = (-y * np.log(h) - (1 - y) * np.log(1 - h)).mean()+np.sum(reg_factor/y.size)\n",
    "        return J\n",
    "    def CalcGradient(self,X,h,y):\n",
    "        derivative_reg = self.reg_ld*self.theta/y.size\n",
    "        grad = np.dot(X.T, (h-y))/y.size + derivative_reg.T\n",
    "        grad[0] -= derivative_reg[0]\n",
    "        return grad\n",
    "                      \n",
    "    def optimize(self, X, y):\n",
    "        X = self.data_prep(X)\n",
    "        self.theta = np.zeros(X.shape[1], dtype=np.float32)\n",
    "        z = np.dot(X, self.theta)\n",
    "        h = self.sigmoid(z)\n",
    "        print(\"Initial Cost is\", self.CostFunction(self.sigmoid(np.dot(X, self.theta)),y))\n",
    "        \n",
    "        \n",
    "        for i in range(self.num_iter):\n",
    "            \n",
    "            self.theta -= self.alpha*self.CalcGradient(X,h,y)\n",
    "            z = np.dot(X, self.theta)\n",
    "            h = self.sigmoid(z)\n",
    "            #print(self.RegCostFunction(h,y))\n",
    "            \n",
    "            \n",
    "        print(\"Minimized Cost is\", self.CostFunction(h,y))\n",
    "        print(\"Optimized theta:\", self.theta)\n",
    "        \n",
    "        \n",
    "    def predict_prep(self, X):\n",
    "        if self.fit_ones:\n",
    "                X = self.data_prep(X)\n",
    "        return X\n",
    "    def predict(self, X):\n",
    "        return self.sigmoid(np.dot(self.predict_prep(X), self.theta)).round()\n",
    "    \n",
    "    def Precision(self,X):\n",
    "        preds = self.predict(X)\n",
    "        print('Accuracy level: ', ((preds==y).mean())*100)\n",
    "        \n",
    "    def visualizedata(self, X,y):\n",
    "            plt.figure(figsize=(20, 10))\n",
    "            plt.scatter(X[y == 0][:, 0], X[y == 0][:, 1], color='b', label='0')\n",
    "            plt.scatter(X[y == 1][:, 0], X[y == 1][:, 1], color='r', label='1')\n",
    "            plt.legend()\n",
    "            x1_min, x1_max = X[:,0].min(), X[:,0].max(),\n",
    "            x2_min, x2_max = X[:,1].min(), X[:,1].max(),\n",
    "            xx1, xx2 = np.meshgrid(np.linspace(x1_min, x1_max), np.linspace(x2_min, x2_max))#create the matrix grid of values (necessary for plt.contour)\n",
    "            grid = np.c_[xx1.ravel(), xx2.ravel()]\n",
    "            probs = self.predict(grid).reshape(xx1.shape)\n",
    "            plt.contour(xx1, xx2, probs, [0.5], linewidths=1, colors='black');#create the graph/any better approaches?\n",
    "            \n",
    "    \n",
    "                      "
   ]
  },
  {
   "cell_type": "code",
   "execution_count": 2,
   "metadata": {},
   "outputs": [
    {
     "name": "stdout",
     "output_type": "stream",
     "text": [
      "CPU times: user 4 µs, sys: 1 µs, total: 5 µs\n",
      "Wall time: 7.39 µs\n",
      "Initial Cost is 0.6931471805599454\n",
      "Minimized Cost is 0.8516792127069309\n",
      "Optimized theta: [-5.7   1.98 -1.55]\n",
      "Accuracy level:  100.0\n"
     ]
    },
    {
     "data": {
      "image/png": "[encoded data removed]",
      "text/plain": [
       "<Figure size 1440x720 with 1 Axes>"
      ]
     },
     "metadata": {},
     "output_type": "display_data"
    }
   ],
   "source": [
    "#import data for training\n",
    "\n",
    "%time\n",
    "\n",
    "from sklearn import datasets\n",
    "\n",
    "iris = datasets.load_iris()\n",
    "\n",
    "X = np.array(iris.data[:, :2], dtype = np.float32)\n",
    "y = np.array((iris.target != 0) * 1, dtype = np.float32)\n",
    "\n",
    "model = FlowerClassificator(alpha=0.3, num_iter=100000, reg_ld=5)\n",
    "\n",
    "\n",
    "model.optimize(X,y)\n",
    "model.Precision(X)\n",
    "model.visualizedata(X,y)"
   ]
  },
  {
   "cell_type": "markdown",
   "metadata": {},
   "source": [
    "11/09 The model is working correctly. The wall time does not overcome 30 ms basically works as good as sklearn logistic regression"
   ]
  },
  {
   "cell_type": "code",
   "execution_count": null,
   "metadata": {},
   "outputs": [],
   "source": []
  }
 ],
 "metadata": {
  "kernelspec": {
   "display_name": "Python 3",
   "language": "python",
   "name": "python3"
  },
  "language_info": {
   "codemirror_mode": {
    "name": "ipython",
    "version": 3
   },
   "file_extension": ".py",
   "mimetype": "text/x-python",
   "name": "python",
   "nbconvert_exporter": "python",
   "pygments_lexer": "ipython3",
   "version": "3.6.5"
  }
 },
 "nbformat": 4,
 "nbformat_minor": 2
}
