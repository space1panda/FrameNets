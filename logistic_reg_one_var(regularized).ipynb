{
 "cells": [
  {
   "cell_type": "code",
   "execution_count": 249,
   "metadata": {},
   "outputs": [
    {
     "name": "stdout",
     "output_type": "stream",
     "text": [
      "Initial Cost is 0.6931471805599454\n"
     ]
    },
    {
     "data": {
      "image/png": "[encoded data removed]",
      "text/plain": [
       "<Figure size 720x432 with 1 Axes>"
      ]
     },
     "metadata": {},
     "output_type": "display_data"
    }
   ],
   "source": [
    "\n",
    "iris = datasets.load_iris()\n",
    "\n",
    "iris\n",
    "\n",
    "X = np.array(iris.data[:, :2], dtype = np.float32)\n",
    "y = np.array((iris.target != 0) * 1, dtype = np.float32)\n",
    "\n",
    "\n",
    "plt.figure(figsize=(10, 6))\n",
    "plt.scatter(X[y == 0][:, 0], X[y == 0][:, 1], color='b', label='0')\n",
    "plt.scatter(X[y == 1][:, 0], X[y == 1][:, 1], color='r', label='1')\n",
    "plt.legend();\n",
    "\n",
    "[m,n] = X.shape\n",
    "X = np.concatenate((np.ones((m,1)), X), axis=1) #86 left for testing\n",
    "theta = np.zeros((n+1,), dtype = np.float32)\n",
    "\n",
    "\n",
    "print(\"Initial Cost is\",RegCostFunction())\n",
    "\n"
   ]
  },
  {
   "cell_type": "markdown",
   "metadata": {},
   "source": [
    "08.09 - Matplot scatter was showing that the data cannot be classified with the given parameters. So if the graph cannot give a graph pattern idea, the problem cannot be solved with linear methods. \n",
    "\n",
    "\n",
    "06.09 The function got minimized, but the prediction is not working correctly. I have to check whether it has to do with the data I picked up for training. \n"
   ]
  },
  {
   "cell_type": "code",
   "execution_count": 250,
   "metadata": {},
   "outputs": [
    {
     "name": "stdout",
     "output_type": "stream",
     "text": [
      "CPU times: user 7 µs, sys: 1 µs, total: 8 µs\n",
      "Wall time: 15.5 µs\n",
      "Minimized Cost is 0.007726855576303563\n",
      "Minimized theta: [-25.96961165  12.5622445  -13.44580927]\n",
      "Accuracy level:  100.0\n"
     ]
    }
   ],
   "source": [
    "%time \n",
    "for i in range(num_iterations):\n",
    "    theta = theta - alpha*CalcGradient()\n",
    "\n",
    "\n",
    "print(\"Minimized Cost is\", RegCostFunction())\n",
    "\n",
    "print(\"Minimized theta:\", theta)\n",
    "\n",
    "predictions = np.zeros((m,1))\n",
    "\n",
    "for i in range(m):\n",
    "    if sigmoid(np.dot(X[i,:], theta)) >= 0.5:\n",
    "       predictions[i] = 1\n",
    "\n",
    "testing = np.zeros((m,1))\n",
    "\n",
    "for i in range(m):\n",
    "    if y[i]==predictions[i]:\n",
    "        testing[i] = 1\n",
    "    \n",
    "match = np.count_nonzero(testing==1)\n",
    "\n",
    "accuracy = (match/m)*100\n",
    "\n",
    "print(\"Accuracy level: \", accuracy)"
   ]
  },
  {
   "cell_type": "markdown",
   "metadata": {},
   "source": [
    "10/09 The model is working correctly (optimized thetas are same). The example model worked at 19.5 s, so my one is way more efficient. Have to understand, how the exemplar graph is being built"
   ]
  },
  {
   "cell_type": "code",
   "execution_count": 251,
   "metadata": {},
   "outputs": [
    {
     "ename": "TypeError",
     "evalue": "'numpy.ndarray' object is not callable",
     "output_type": "error",
     "traceback": [
      "\u001b[0;31m---------------------------------------------------------------------------\u001b[0m",
      "\u001b[0;31mTypeError\u001b[0m                                 Traceback (most recent call last)",
      "\u001b[0;32m<ipython-input-251-5c6849cd07ed>\u001b[0m in \u001b[0;36m<module>\u001b[0;34m()\u001b[0m\n\u001b[1;32m      7\u001b[0m \u001b[0mxx1\u001b[0m\u001b[0;34m,\u001b[0m \u001b[0mxx2\u001b[0m \u001b[0;34m=\u001b[0m \u001b[0mnp\u001b[0m\u001b[0;34m.\u001b[0m\u001b[0mmeshgrid\u001b[0m\u001b[0;34m(\u001b[0m\u001b[0mnp\u001b[0m\u001b[0;34m.\u001b[0m\u001b[0mlinspace\u001b[0m\u001b[0;34m(\u001b[0m\u001b[0mx1_min\u001b[0m\u001b[0;34m,\u001b[0m \u001b[0mx1_max\u001b[0m\u001b[0;34m)\u001b[0m\u001b[0;34m,\u001b[0m \u001b[0mnp\u001b[0m\u001b[0;34m.\u001b[0m\u001b[0mlinspace\u001b[0m\u001b[0;34m(\u001b[0m\u001b[0mx2_min\u001b[0m\u001b[0;34m,\u001b[0m \u001b[0mx2_max\u001b[0m\u001b[0;34m)\u001b[0m\u001b[0;34m)\u001b[0m\u001b[0;34m\u001b[0m\u001b[0m\n\u001b[1;32m      8\u001b[0m \u001b[0mgrid\u001b[0m \u001b[0;34m=\u001b[0m \u001b[0mnp\u001b[0m\u001b[0;34m.\u001b[0m\u001b[0mc_\u001b[0m\u001b[0;34m[\u001b[0m\u001b[0mxx1\u001b[0m\u001b[0;34m.\u001b[0m\u001b[0mravel\u001b[0m\u001b[0;34m(\u001b[0m\u001b[0;34m)\u001b[0m\u001b[0;34m,\u001b[0m \u001b[0mxx2\u001b[0m\u001b[0;34m.\u001b[0m\u001b[0mravel\u001b[0m\u001b[0;34m(\u001b[0m\u001b[0;34m)\u001b[0m\u001b[0;34m]\u001b[0m\u001b[0;34m\u001b[0m\u001b[0m\n\u001b[0;32m----> 9\u001b[0;31m \u001b[0mprobs\u001b[0m \u001b[0;34m=\u001b[0m \u001b[0mpredictions\u001b[0m\u001b[0;34m(\u001b[0m\u001b[0mgrid\u001b[0m\u001b[0;34m)\u001b[0m\u001b[0;34m.\u001b[0m\u001b[0mreshape\u001b[0m\u001b[0;34m(\u001b[0m\u001b[0mxx1\u001b[0m\u001b[0;34m.\u001b[0m\u001b[0mshape\u001b[0m\u001b[0;34m)\u001b[0m\u001b[0;34m\u001b[0m\u001b[0m\n\u001b[0m\u001b[1;32m     10\u001b[0m \u001b[0mplt\u001b[0m\u001b[0;34m.\u001b[0m\u001b[0mcontour\u001b[0m\u001b[0;34m(\u001b[0m\u001b[0mxx1\u001b[0m\u001b[0;34m,\u001b[0m \u001b[0mxx2\u001b[0m\u001b[0;34m,\u001b[0m \u001b[0mprobs\u001b[0m\u001b[0;34m,\u001b[0m \u001b[0;34m[\u001b[0m\u001b[0;36m0.5\u001b[0m\u001b[0;34m]\u001b[0m\u001b[0;34m,\u001b[0m \u001b[0mlinewidths\u001b[0m\u001b[0;34m=\u001b[0m\u001b[0;36m1\u001b[0m\u001b[0;34m,\u001b[0m \u001b[0mcolors\u001b[0m\u001b[0;34m=\u001b[0m\u001b[0;34m'black'\u001b[0m\u001b[0;34m)\u001b[0m\u001b[0;34m;\u001b[0m\u001b[0;34m\u001b[0m\u001b[0m\n",
      "\u001b[0;31mTypeError\u001b[0m: 'numpy.ndarray' object is not callable"
     ]
    },
    {
     "data": {
      "image/png": "[encoded data removed]",
      "text/plain": [
       "<Figure size 720x432 with 1 Axes>"
      ]
     },
     "metadata": {},
     "output_type": "display_data"
    }
   ],
   "source": [
    "plt.figure(figsize=(10, 6))\n",
    "plt.scatter(X[y == 0][:, 0], X[y == 0][:, 1], color='b', label='0')\n",
    "plt.scatter(X[y == 1][:, 0], X[y == 1][:, 1], color='r', label='1')\n",
    "plt.legend()\n",
    "x1_min, x1_max = X[:,0].min(), X[:,0].max(),\n",
    "x2_min, x2_max = X[:,1].min(), X[:,1].max(),\n",
    "xx1, xx2 = np.meshgrid(np.linspace(x1_min, x1_max), np.linspace(x2_min, x2_max))\n",
    "grid = np.c_[xx1.ravel(), xx2.ravel()]\n",
    "probs = predictions(grid).reshape(xx1.shape)\n",
    "plt.contour(xx1, xx2, probs, [0.5], linewidths=1, colors='black');"
   ]
  },
  {
   "cell_type": "code",
   "execution_count": 29,
   "metadata": {},
   "outputs": [],
   "source": [
    "import numpy as np\n",
    "import matplotlib.pyplot as plt\n",
    "from sklearn import datasets\n",
    "\n",
    "\n",
    "class IrisClassificator():\n",
    "    \n",
    "    def __init__(self, alpha = 0.03, num_iter = 100000):\n",
    "        self.alpha = alpha\n",
    "        self.num_iter = num_iter\n",
    "        [m,n] = X.shape\n",
    "        self.theta = np.zeros((n+1,), dtype = np.float32)\n",
    "        \n",
    "    def data_prep(self, X):\n",
    "        \n",
    "        return np.concatenate((np.ones((y.size,1)), X), axis=1)\n",
    "    \n",
    "    def pred(self):\n",
    "        z = np.dot(self.data_prep(X), self.theta)\n",
    "        h = self.sigmoid(z)\n",
    "        return h\n",
    "\n",
    "    def sigmoid(self, z):\n",
    "        g = 1 /(1+ np.exp(-z))\n",
    "        return g\n",
    "\n",
    "    def RegCostFunction(self, y):\n",
    "        J = (-y * np.log(self.pred()) - (1 - y) * np.log(1 - self.pred())).mean()\n",
    "        return J\n",
    "                      \n",
    "    def fit(self, X, y):\n",
    "        X = self.data_prep(X)\n",
    "        print(\"Initial Cost is\", self.RegCostFunction(y))\n",
    "        \n",
    "        \n",
    "        for i in range(10):\n",
    "            grad = np.dot(X.T, (self.sigmoid(self.pred()-y)))/y.size\n",
    "            self.theta = self.theta - self.alpha*grad\n",
    "            print(self.RegCostFunction(y))\n",
    "        print(\"Minimized Cost is\", self.RegCostFunction(y))\n",
    "        print(\"Optimized theta:\", self.theta)\n",
    "        \n",
    "    \n",
    "                      "
   ]
  },
  {
   "cell_type": "code",
   "execution_count": 30,
   "metadata": {},
   "outputs": [
    {
     "name": "stdout",
     "output_type": "stream",
     "text": [
      "CPU times: user 8 µs, sys: 1e+03 ns, total: 9 µs\n",
      "Wall time: 15.5 µs\n",
      "Initial Cost is 0.6931471805599454\n",
      "0.7373335629508654\n",
      "0.7900674180449194\n",
      "0.8503941978675965\n",
      "0.9173561801679223\n",
      "0.9900437089880747\n",
      "1.067626274429108\n",
      "1.1493669854366062\n",
      "1.2346252420470278\n",
      "1.3228520715081624\n",
      "1.4135815757144798\n",
      "Minimized Cost is 1.4135815757144798\n",
      "Optimized theta: [-0.04155529 -0.23576923 -0.1298224 ]\n"
     ]
    }
   ],
   "source": [
    "%time\n",
    "\n",
    "iris = datasets.load_iris()\n",
    "\n",
    "X = np.array(iris.data[:, :2], dtype = np.float32)\n",
    "y = np.array((iris.target != 0) * 1, dtype = np.float32)\n",
    "\n",
    "model = IrisClassificator(alpha=0.01, num_iter=100000)\n",
    "\n",
    "\n",
    "model.fit(X,y)"
   ]
  },
  {
   "cell_type": "code",
   "execution_count": null,
   "metadata": {},
   "outputs": [],
   "source": []
  },
  {
   "cell_type": "code",
   "execution_count": null,
   "metadata": {},
   "outputs": [],
   "source": []
  }
 ],
 "metadata": {
  "kernelspec": {
   "display_name": "Python 3",
   "language": "python",
   "name": "python3"
  },
  "language_info": {
   "codemirror_mode": {
    "name": "ipython",
    "version": 3
   },
   "file_extension": ".py",
   "mimetype": "text/x-python",
   "name": "python",
   "nbconvert_exporter": "python",
   "pygments_lexer": "ipython3",
   "version": "3.6.5"
  }
 },
 "nbformat": 4,
 "nbformat_minor": 2
}
