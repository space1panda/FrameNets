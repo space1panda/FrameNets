{
 "cells": [
  {
   "cell_type": "code",
   "execution_count": 1,
   "metadata": {},
   "outputs": [
    {
     "ename": "IndentationError",
     "evalue": "expected an indented block (<ipython-input-1-926a54cdf9b6>, line 19)",
     "output_type": "error",
     "traceback": [
      "\u001b[0;36m  File \u001b[0;32m\"<ipython-input-1-926a54cdf9b6>\"\u001b[0;36m, line \u001b[0;32m19\u001b[0m\n\u001b[0;31m    m = y(:,1) # num of training exanples\u001b[0m\n\u001b[0m    ^\u001b[0m\n\u001b[0;31mIndentationError\u001b[0m\u001b[0;31m:\u001b[0m expected an indented block\n"
     ]
    }
   ],
   "source": [
    "import numpy as np \n",
    "import csv\n",
    "import matplotlib\n",
    "#make imports....\n",
    "\n",
    "\n",
    "alpha = 0.3\n",
    "reg_lambda = 0.01\n",
    "num_iterations = 1000\n",
    "#theta = np.zeros(n,n)\n",
    "\n",
    "\n",
    "\n",
    "with open(\".csv\") as file:\n",
    "    #export training set for classification to the following variables:\n",
    "    #X - training matrix (np.asarray());\n",
    "    #y - vertical vector with correct outputs;\n",
    "\n",
    "m = y(:,1) # num of training exanples    \n",
    "    \n",
    "def sigmoid(z):\n",
    "    g = 1. /(1+exp(-z))= #use standard sigmoid function Octave: g = 1./(1+exp(-z)) where z is X * theta\n",
    "\n",
    "    \n",
    "J = #use standard regulzarized cost function with sigmoid and lambda regularization\n",
    "\n",
    "\n",
    "gradient = #use standard regularized gradient formula (octave ex.)\n",
    "\n",
    "\n",
    "\n",
    "i = 1:num_iterations\n",
    "\n",
    "for i<num_iterations:\n",
    "    theta = theta - alpha*gradient\n",
    "    print(theta)\n",
    "    print(J(theta))\n",
    "\n",
    "\n",
    "#Show J-minimization on graph\n",
    "    \n",
    "    \n",
    "#Notes from Octave:\n",
    "\n",
    "    \n",
    "#J = (1/m)*((-y')*log(sigmoid(X*theta))-((1-y)')*log(1-sigmoid(X*theta)))+(lambda/(2*m))*sum(theta(2:end).^2);\n",
    "\n",
    "#grad = (1/m)*((X'*(sigmoid(X*theta)-y))) +(lambda/m)*theta;\n",
    "\n",
    "#grad(1) = grad(1)-(lambda/m)*theta(1) (don't regularize theta(0));\n",
    "\n",
    "\n",
    "\n",
    "\n",
    "#Check accuracy on the training set (sigmoid >=0.5)\n",
    "\n",
    "predictions = np.zeros(m,1)\n",
    "\n",
    "Octave:\n",
    "\n",
    "\n",
    "#for i=1:m,\n",
    " # if sigmoid(theta'*X(i,:)') >=0.5,\n",
    "  #  p(i,:) = 1;\n",
    "  #endif;\n",
    "  #endfor;\n",
    "\n",
    "#Count # of m where prediction = y / m *100% = accuracy ratio\n",
    "\n",
    "\n",
    "\n",
    "\n",
    "\n",
    "\n"
   ]
  },
  {
   "cell_type": "code",
   "execution_count": 78,
   "metadata": {},
   "outputs": [
    {
     "ename": "ValueError",
     "evalue": "operands could not be broadcast together with shapes (200,5) (5,1) ",
     "output_type": "error",
     "traceback": [
      "\u001b[0;31m---------------------------------------------------------------------------\u001b[0m",
      "\u001b[0;31mValueError\u001b[0m                                Traceback (most recent call last)",
      "\u001b[0;32m<ipython-input-78-eaff3e6b213b>\u001b[0m in \u001b[0;36m<module>\u001b[0;34m()\u001b[0m\n\u001b[1;32m     16\u001b[0m \u001b[0mtheta\u001b[0m \u001b[0;34m=\u001b[0m \u001b[0mnp\u001b[0m\u001b[0;34m.\u001b[0m\u001b[0mzeros\u001b[0m\u001b[0;34m(\u001b[0m\u001b[0;34m(\u001b[0m\u001b[0mn\u001b[0m\u001b[0;34m+\u001b[0m\u001b[0;36m1\u001b[0m\u001b[0;34m,\u001b[0m\u001b[0;36m1\u001b[0m\u001b[0;34m)\u001b[0m\u001b[0;34m)\u001b[0m\u001b[0;34m\u001b[0m\u001b[0m\n\u001b[1;32m     17\u001b[0m \u001b[0;34m\u001b[0m\u001b[0m\n\u001b[0;32m---> 18\u001b[0;31m \u001b[0mnp\u001b[0m\u001b[0;34m.\u001b[0m\u001b[0mmultiply\u001b[0m\u001b[0;34m(\u001b[0m\u001b[0mX\u001b[0m\u001b[0;34m,\u001b[0m \u001b[0mtheta\u001b[0m\u001b[0;34m)\u001b[0m\u001b[0;34m\u001b[0m\u001b[0m\n\u001b[0m\u001b[1;32m     19\u001b[0m \u001b[0;34m\u001b[0m\u001b[0m\n\u001b[1;32m     20\u001b[0m \u001b[0;34m\u001b[0m\u001b[0m\n",
      "\u001b[0;31mValueError\u001b[0m: operands could not be broadcast together with shapes (200,5) (5,1) "
     ]
    }
   ],
   "source": [
    "import csv\n",
    "import pandas as pd\n",
    "import numpy as np\n",
    "\n",
    "\n",
    "data = pd.read_csv('cancer_data.csv')\n",
    "\n",
    "#print(data)\n",
    "\n",
    "matrix = np.asarray(data)\n",
    "\n",
    "X = matrix[0:200,[1,3,4,6]]\n",
    "[m,n] = X.shape\n",
    "X = np.concatenate((np.ones((m,1)), X), axis=1)\n",
    "y = matrix[0:200,9] #86 left for testing\n",
    "theta = np.zeros((n+1,1))\n",
    "\n",
    "np.multiply(X, theta)\n",
    "\n",
    "\n",
    "print(X.shape)\n",
    "print(X)\n",
    "print(y.shape)\n",
    "print(theta.shape)   "
   ]
  },
  {
   "cell_type": "code",
   "execution_count": null,
   "metadata": {},
   "outputs": [],
   "source": []
  }
 ],
 "metadata": {
  "kernelspec": {
   "display_name": "Python 3",
   "language": "python",
   "name": "python3"
  },
  "language_info": {
   "codemirror_mode": {
    "name": "ipython",
    "version": 3
   },
   "file_extension": ".py",
   "mimetype": "text/x-python",
   "name": "python",
   "nbconvert_exporter": "python",
   "pygments_lexer": "ipython3",
   "version": "3.6.5"
  }
 },
 "nbformat": 4,
 "nbformat_minor": 2
}
