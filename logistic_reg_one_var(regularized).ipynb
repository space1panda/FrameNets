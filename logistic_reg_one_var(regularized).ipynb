{
 "cells": [
  {
   "cell_type": "code",
   "execution_count": null,
   "metadata": {},
   "outputs": [],
   "source": [
    "import numpy as np \n",
    "import csv\n",
    "import matplotlib\n",
    "#make imports....\n",
    "\n",
    "\n",
    "alpha = 0.3\n",
    "reg_lambda = 0.01\n",
    "num_iterations = 1000\n",
    "#theta = np.zeros(n,n)\n",
    "\n",
    "\n",
    "\n",
    "with open(\".csv\") as file:\n",
    "    #export training set for classification to the following variables:\n",
    "    #X - training matrix (np.asarray());\n",
    "    #y - vertical vector with correct outputs;\n",
    "\n",
    "m = y(:,1) # num of training exanples    \n",
    "    \n",
    "sigmoid = #use standard sigmoid function\n",
    "\n",
    "    \n",
    "J = #use standard regulzarized cost function with sigmoid and lambda regularization\n",
    "\n",
    "\n",
    "gradient = #use standard regularized gradient formula (octave ex.)\n",
    "\n",
    "\n",
    "\n",
    "i = 1:num_iterations\n",
    "\n",
    "for i<num_iterations:\n",
    "    theta = theta - alpha*gradient\n",
    "    print(theta)\n",
    "    print(J(theta))\n",
    "\n",
    "\n",
    "#Show J-minimization on graph\n",
    "    \n",
    "    \n",
    "\n",
    "\n",
    "\n",
    "\n",
    "\n",
    "\n",
    "\n",
    "\n",
    "\n",
    "\n",
    "\n",
    "\n",
    "\n"
   ]
  }
 ],
 "metadata": {
  "kernelspec": {
   "display_name": "Python 3",
   "language": "python",
   "name": "python3"
  },
  "language_info": {
   "codemirror_mode": {
    "name": "ipython",
    "version": 3
   },
   "file_extension": ".py",
   "mimetype": "text/x-python",
   "name": "python",
   "nbconvert_exporter": "python",
   "pygments_lexer": "ipython3",
   "version": "3.6.5"
  }
 },
 "nbformat": 4,
 "nbformat_minor": 2
}
